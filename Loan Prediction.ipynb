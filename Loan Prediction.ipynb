{
 "cells": [
  {
   "cell_type": "code",
   "execution_count": 1,
   "id": "36d47080",
   "metadata": {},
   "outputs": [],
   "source": [
    "import pandas as pd\n",
    "pd.set_option(\"display.max_columns\",100)\n",
    "import numpy as np\n",
    "\n",
    "from scipy import stats\n",
    "import matplotlib.pyplot as plt\n",
    "%matplotlib inline\n",
    "import seaborn as sns\n",
    "\n",
    "\n",
    "from sklearn.naive_bayes import GaussianNB, BernoulliNB\n",
    "from sklearn.metrics import accuracy_score, confusion_matrix,classification_report\n",
    "from sklearn.neighbors import KNeighborsClassifier\n",
    "from sklearn.linear_model import LogisticRegression\n",
    "from sklearn.tree import DecisionTreeClassifier\n",
    "from sklearn.ensemble import RandomForestClassifier, GradientBoostingClassifier\n",
    "from sklearn.svm import SVC\n",
    "\n",
    "\n",
    "from sklearn.model_selection import train_test_split\n",
    "\n",
    "import warnings\n",
    "warnings.filterwarnings('ignore')"
   ]
  },
  {
   "cell_type": "code",
   "execution_count": 2,
   "id": "066b145c",
   "metadata": {},
   "outputs": [],
   "source": [
    "df=pd.read_csv(\"LoansTrainingSet.csv\")"
   ]
  },
  {
   "cell_type": "markdown",
   "id": "ae727082",
   "metadata": {},
   "source": [
    "### EDA"
   ]
  },
  {
   "cell_type": "code",
   "execution_count": 3,
   "id": "83267ab4",
   "metadata": {},
   "outputs": [
    {
     "data": {
      "text/html": [
       "<div>\n",
       "<style scoped>\n",
       "    .dataframe tbody tr th:only-of-type {\n",
       "        vertical-align: middle;\n",
       "    }\n",
       "\n",
       "    .dataframe tbody tr th {\n",
       "        vertical-align: top;\n",
       "    }\n",
       "\n",
       "    .dataframe thead th {\n",
       "        text-align: right;\n",
       "    }\n",
       "</style>\n",
       "<table border=\"1\" class=\"dataframe\">\n",
       "  <thead>\n",
       "    <tr style=\"text-align: right;\">\n",
       "      <th></th>\n",
       "      <th>Loan ID</th>\n",
       "      <th>Customer ID</th>\n",
       "      <th>Loan Status</th>\n",
       "      <th>Current Loan Amount</th>\n",
       "      <th>Term</th>\n",
       "      <th>Credit Score</th>\n",
       "      <th>Years in current job</th>\n",
       "      <th>Home Ownership</th>\n",
       "      <th>Annual Income</th>\n",
       "      <th>Purpose</th>\n",
       "      <th>Monthly Debt</th>\n",
       "      <th>Years of Credit History</th>\n",
       "      <th>Months since last delinquent</th>\n",
       "      <th>Number of Open Accounts</th>\n",
       "      <th>Number of Credit Problems</th>\n",
       "      <th>Current Credit Balance</th>\n",
       "      <th>Maximum Open Credit</th>\n",
       "      <th>Bankruptcies</th>\n",
       "      <th>Tax Liens</th>\n",
       "    </tr>\n",
       "  </thead>\n",
       "  <tbody>\n",
       "    <tr>\n",
       "      <th>0</th>\n",
       "      <td>000025bb-5694-4cff-b17d-192b1a98ba44</td>\n",
       "      <td>5ebc8bb1-5eb9-4404-b11b-a6eebc401a19</td>\n",
       "      <td>Fully Paid</td>\n",
       "      <td>11520</td>\n",
       "      <td>Short Term</td>\n",
       "      <td>741.0</td>\n",
       "      <td>10+ years</td>\n",
       "      <td>Home Mortgage</td>\n",
       "      <td>33694.0</td>\n",
       "      <td>Debt Consolidation</td>\n",
       "      <td>$584.03</td>\n",
       "      <td>12.3</td>\n",
       "      <td>41.0</td>\n",
       "      <td>10</td>\n",
       "      <td>0</td>\n",
       "      <td>6760</td>\n",
       "      <td>16056</td>\n",
       "      <td>0.0</td>\n",
       "      <td>0.0</td>\n",
       "    </tr>\n",
       "    <tr>\n",
       "      <th>1</th>\n",
       "      <td>00002c49-3a29-4bd4-8f67-c8f8fbc1048c</td>\n",
       "      <td>927b388d-2e01-423f-a8dc-f7e42d668f46</td>\n",
       "      <td>Fully Paid</td>\n",
       "      <td>3441</td>\n",
       "      <td>Short Term</td>\n",
       "      <td>734.0</td>\n",
       "      <td>4 years</td>\n",
       "      <td>Home Mortgage</td>\n",
       "      <td>42269.0</td>\n",
       "      <td>other</td>\n",
       "      <td>$1,106.04</td>\n",
       "      <td>26.3</td>\n",
       "      <td>NaN</td>\n",
       "      <td>17</td>\n",
       "      <td>0</td>\n",
       "      <td>6262</td>\n",
       "      <td>19149</td>\n",
       "      <td>0.0</td>\n",
       "      <td>0.0</td>\n",
       "    </tr>\n",
       "    <tr>\n",
       "      <th>2</th>\n",
       "      <td>00002d89-27f3-409b-aa76-90834f359a65</td>\n",
       "      <td>defce609-c631-447d-aad6-1270615e89c4</td>\n",
       "      <td>Fully Paid</td>\n",
       "      <td>21029</td>\n",
       "      <td>Short Term</td>\n",
       "      <td>747.0</td>\n",
       "      <td>10+ years</td>\n",
       "      <td>Home Mortgage</td>\n",
       "      <td>90126.0</td>\n",
       "      <td>Debt Consolidation</td>\n",
       "      <td>$1,321.85</td>\n",
       "      <td>28.8</td>\n",
       "      <td>NaN</td>\n",
       "      <td>5</td>\n",
       "      <td>0</td>\n",
       "      <td>20967</td>\n",
       "      <td>28335</td>\n",
       "      <td>0.0</td>\n",
       "      <td>0.0</td>\n",
       "    </tr>\n",
       "    <tr>\n",
       "      <th>3</th>\n",
       "      <td>00005222-b4d8-45a4-ad8c-186057e24233</td>\n",
       "      <td>070bcecb-aae7-4485-a26a-e0403e7bb6c5</td>\n",
       "      <td>Fully Paid</td>\n",
       "      <td>18743</td>\n",
       "      <td>Short Term</td>\n",
       "      <td>747.0</td>\n",
       "      <td>10+ years</td>\n",
       "      <td>Own Home</td>\n",
       "      <td>38072.0</td>\n",
       "      <td>Debt Consolidation</td>\n",
       "      <td>$751.92</td>\n",
       "      <td>26.2</td>\n",
       "      <td>NaN</td>\n",
       "      <td>9</td>\n",
       "      <td>0</td>\n",
       "      <td>22529</td>\n",
       "      <td>43915</td>\n",
       "      <td>0.0</td>\n",
       "      <td>0.0</td>\n",
       "    </tr>\n",
       "    <tr>\n",
       "      <th>4</th>\n",
       "      <td>0000757f-a121-41ed-b17b-162e76647c1f</td>\n",
       "      <td>dde79588-12f0-4811-bab0-e2b07f633fcd</td>\n",
       "      <td>Fully Paid</td>\n",
       "      <td>11731</td>\n",
       "      <td>Short Term</td>\n",
       "      <td>746.0</td>\n",
       "      <td>4 years</td>\n",
       "      <td>Rent</td>\n",
       "      <td>50025.0</td>\n",
       "      <td>Debt Consolidation</td>\n",
       "      <td>$355.18</td>\n",
       "      <td>11.5</td>\n",
       "      <td>NaN</td>\n",
       "      <td>12</td>\n",
       "      <td>0</td>\n",
       "      <td>17391</td>\n",
       "      <td>37081</td>\n",
       "      <td>0.0</td>\n",
       "      <td>0.0</td>\n",
       "    </tr>\n",
       "    <tr>\n",
       "      <th>...</th>\n",
       "      <td>...</td>\n",
       "      <td>...</td>\n",
       "      <td>...</td>\n",
       "      <td>...</td>\n",
       "      <td>...</td>\n",
       "      <td>...</td>\n",
       "      <td>...</td>\n",
       "      <td>...</td>\n",
       "      <td>...</td>\n",
       "      <td>...</td>\n",
       "      <td>...</td>\n",
       "      <td>...</td>\n",
       "      <td>...</td>\n",
       "      <td>...</td>\n",
       "      <td>...</td>\n",
       "      <td>...</td>\n",
       "      <td>...</td>\n",
       "      <td>...</td>\n",
       "      <td>...</td>\n",
       "    </tr>\n",
       "    <tr>\n",
       "      <th>256979</th>\n",
       "      <td>fffef5b7-be99-4666-ac70-2a397d2ee435</td>\n",
       "      <td>7211a8e3-cba4-4132-b939-222eed8a662c</td>\n",
       "      <td>Fully Paid</td>\n",
       "      <td>3911</td>\n",
       "      <td>Short Term</td>\n",
       "      <td>NaN</td>\n",
       "      <td>2 years</td>\n",
       "      <td>Rent</td>\n",
       "      <td>NaN</td>\n",
       "      <td>Debt Consolidation</td>\n",
       "      <td>$1,706.58</td>\n",
       "      <td>19.9</td>\n",
       "      <td>NaN</td>\n",
       "      <td>16</td>\n",
       "      <td>0</td>\n",
       "      <td>43992</td>\n",
       "      <td>44080</td>\n",
       "      <td>0.0</td>\n",
       "      <td>0.0</td>\n",
       "    </tr>\n",
       "    <tr>\n",
       "      <th>256980</th>\n",
       "      <td>ffffca93-aa8c-4123-b8ff-7852f6df889a</td>\n",
       "      <td>616fef0c-8f09-4327-9b5c-48fcfaa52934</td>\n",
       "      <td>Fully Paid</td>\n",
       "      <td>5078</td>\n",
       "      <td>Short Term</td>\n",
       "      <td>737.0</td>\n",
       "      <td>10+ years</td>\n",
       "      <td>Own Home</td>\n",
       "      <td>77186.0</td>\n",
       "      <td>Debt Consolidation</td>\n",
       "      <td>$1,376.47</td>\n",
       "      <td>19.1</td>\n",
       "      <td>47.0</td>\n",
       "      <td>9</td>\n",
       "      <td>0</td>\n",
       "      <td>1717</td>\n",
       "      <td>9758</td>\n",
       "      <td>0.0</td>\n",
       "      <td>0.0</td>\n",
       "    </tr>\n",
       "    <tr>\n",
       "      <th>256981</th>\n",
       "      <td>ffffcb2e-e48e-4d2c-a0d6-ed6bce5bfdbe</td>\n",
       "      <td>971a6682-183b-4a52-8bce-1d3429ade295</td>\n",
       "      <td>Charged Off</td>\n",
       "      <td>12116</td>\n",
       "      <td>Short Term</td>\n",
       "      <td>7460.0</td>\n",
       "      <td>9 years</td>\n",
       "      <td>Home Mortgage</td>\n",
       "      <td>52504.0</td>\n",
       "      <td>Debt Consolidation</td>\n",
       "      <td>$297.96</td>\n",
       "      <td>15.1</td>\n",
       "      <td>82.0</td>\n",
       "      <td>8</td>\n",
       "      <td>0</td>\n",
       "      <td>3315</td>\n",
       "      <td>20090</td>\n",
       "      <td>0.0</td>\n",
       "      <td>0.0</td>\n",
       "    </tr>\n",
       "    <tr>\n",
       "      <th>256982</th>\n",
       "      <td>ffffcb2e-e48e-4d2c-a0d6-ed6bce5bfdbe</td>\n",
       "      <td>971a6682-183b-4a52-8bce-1d3429ade295</td>\n",
       "      <td>Charged Off</td>\n",
       "      <td>12116</td>\n",
       "      <td>Short Term</td>\n",
       "      <td>746.0</td>\n",
       "      <td>9 years</td>\n",
       "      <td>Home Mortgage</td>\n",
       "      <td>52504.0</td>\n",
       "      <td>Debt Consolidation</td>\n",
       "      <td>$297.96</td>\n",
       "      <td>15.1</td>\n",
       "      <td>82.0</td>\n",
       "      <td>8</td>\n",
       "      <td>0</td>\n",
       "      <td>3315</td>\n",
       "      <td>20090</td>\n",
       "      <td>0.0</td>\n",
       "      <td>0.0</td>\n",
       "    </tr>\n",
       "    <tr>\n",
       "      <th>256983</th>\n",
       "      <td>ffffe32e-ed17-459f-9cfd-7b9ee7972933</td>\n",
       "      <td>97281336-1e45-41d2-acb2-263ce56a590e</td>\n",
       "      <td>Fully Paid</td>\n",
       "      <td>27902</td>\n",
       "      <td>Long Term</td>\n",
       "      <td>678.0</td>\n",
       "      <td>10+ years</td>\n",
       "      <td>Home Mortgage</td>\n",
       "      <td>117480.0</td>\n",
       "      <td>Debt Consolidation</td>\n",
       "      <td>$2,525.82</td>\n",
       "      <td>18.0</td>\n",
       "      <td>11.0</td>\n",
       "      <td>10</td>\n",
       "      <td>0</td>\n",
       "      <td>28317</td>\n",
       "      <td>62371</td>\n",
       "      <td>0.0</td>\n",
       "      <td>0.0</td>\n",
       "    </tr>\n",
       "  </tbody>\n",
       "</table>\n",
       "<p>256984 rows × 19 columns</p>\n",
       "</div>"
      ],
      "text/plain": [
       "                                     Loan ID  \\\n",
       "0       000025bb-5694-4cff-b17d-192b1a98ba44   \n",
       "1       00002c49-3a29-4bd4-8f67-c8f8fbc1048c   \n",
       "2       00002d89-27f3-409b-aa76-90834f359a65   \n",
       "3       00005222-b4d8-45a4-ad8c-186057e24233   \n",
       "4       0000757f-a121-41ed-b17b-162e76647c1f   \n",
       "...                                      ...   \n",
       "256979  fffef5b7-be99-4666-ac70-2a397d2ee435   \n",
       "256980  ffffca93-aa8c-4123-b8ff-7852f6df889a   \n",
       "256981  ffffcb2e-e48e-4d2c-a0d6-ed6bce5bfdbe   \n",
       "256982  ffffcb2e-e48e-4d2c-a0d6-ed6bce5bfdbe   \n",
       "256983  ffffe32e-ed17-459f-9cfd-7b9ee7972933   \n",
       "\n",
       "                                 Customer ID  Loan Status  \\\n",
       "0       5ebc8bb1-5eb9-4404-b11b-a6eebc401a19   Fully Paid   \n",
       "1       927b388d-2e01-423f-a8dc-f7e42d668f46   Fully Paid   \n",
       "2       defce609-c631-447d-aad6-1270615e89c4   Fully Paid   \n",
       "3       070bcecb-aae7-4485-a26a-e0403e7bb6c5   Fully Paid   \n",
       "4       dde79588-12f0-4811-bab0-e2b07f633fcd   Fully Paid   \n",
       "...                                      ...          ...   \n",
       "256979  7211a8e3-cba4-4132-b939-222eed8a662c   Fully Paid   \n",
       "256980  616fef0c-8f09-4327-9b5c-48fcfaa52934   Fully Paid   \n",
       "256981  971a6682-183b-4a52-8bce-1d3429ade295  Charged Off   \n",
       "256982  971a6682-183b-4a52-8bce-1d3429ade295  Charged Off   \n",
       "256983  97281336-1e45-41d2-acb2-263ce56a590e   Fully Paid   \n",
       "\n",
       "        Current Loan Amount        Term  Credit Score Years in current job  \\\n",
       "0                     11520  Short Term         741.0            10+ years   \n",
       "1                      3441  Short Term         734.0              4 years   \n",
       "2                     21029  Short Term         747.0            10+ years   \n",
       "3                     18743  Short Term         747.0            10+ years   \n",
       "4                     11731  Short Term         746.0              4 years   \n",
       "...                     ...         ...           ...                  ...   \n",
       "256979                 3911  Short Term           NaN              2 years   \n",
       "256980                 5078  Short Term         737.0            10+ years   \n",
       "256981                12116  Short Term        7460.0              9 years   \n",
       "256982                12116  Short Term         746.0              9 years   \n",
       "256983                27902   Long Term         678.0            10+ years   \n",
       "\n",
       "       Home Ownership  Annual Income             Purpose Monthly Debt  \\\n",
       "0       Home Mortgage        33694.0  Debt Consolidation      $584.03   \n",
       "1       Home Mortgage        42269.0               other   $1,106.04    \n",
       "2       Home Mortgage        90126.0  Debt Consolidation   $1,321.85    \n",
       "3            Own Home        38072.0  Debt Consolidation      $751.92   \n",
       "4                Rent        50025.0  Debt Consolidation      $355.18   \n",
       "...               ...            ...                 ...          ...   \n",
       "256979           Rent            NaN  Debt Consolidation   $1,706.58    \n",
       "256980       Own Home        77186.0  Debt Consolidation   $1,376.47    \n",
       "256981  Home Mortgage        52504.0  Debt Consolidation      $297.96   \n",
       "256982  Home Mortgage        52504.0  Debt Consolidation      $297.96   \n",
       "256983  Home Mortgage       117480.0  Debt Consolidation   $2,525.82    \n",
       "\n",
       "        Years of Credit History  Months since last delinquent  \\\n",
       "0                          12.3                          41.0   \n",
       "1                          26.3                           NaN   \n",
       "2                          28.8                           NaN   \n",
       "3                          26.2                           NaN   \n",
       "4                          11.5                           NaN   \n",
       "...                         ...                           ...   \n",
       "256979                     19.9                           NaN   \n",
       "256980                     19.1                          47.0   \n",
       "256981                     15.1                          82.0   \n",
       "256982                     15.1                          82.0   \n",
       "256983                     18.0                          11.0   \n",
       "\n",
       "        Number of Open Accounts  Number of Credit Problems  \\\n",
       "0                            10                          0   \n",
       "1                            17                          0   \n",
       "2                             5                          0   \n",
       "3                             9                          0   \n",
       "4                            12                          0   \n",
       "...                         ...                        ...   \n",
       "256979                       16                          0   \n",
       "256980                        9                          0   \n",
       "256981                        8                          0   \n",
       "256982                        8                          0   \n",
       "256983                       10                          0   \n",
       "\n",
       "        Current Credit Balance Maximum Open Credit  Bankruptcies  Tax Liens  \n",
       "0                         6760               16056           0.0        0.0  \n",
       "1                         6262               19149           0.0        0.0  \n",
       "2                        20967               28335           0.0        0.0  \n",
       "3                        22529               43915           0.0        0.0  \n",
       "4                        17391               37081           0.0        0.0  \n",
       "...                        ...                 ...           ...        ...  \n",
       "256979                   43992               44080           0.0        0.0  \n",
       "256980                    1717                9758           0.0        0.0  \n",
       "256981                    3315               20090           0.0        0.0  \n",
       "256982                    3315               20090           0.0        0.0  \n",
       "256983                   28317               62371           0.0        0.0  \n",
       "\n",
       "[256984 rows x 19 columns]"
      ]
     },
     "execution_count": 3,
     "metadata": {},
     "output_type": "execute_result"
    }
   ],
   "source": [
    "df"
   ]
  },
  {
   "cell_type": "code",
   "execution_count": 4,
   "id": "74d6a06a",
   "metadata": {},
   "outputs": [
    {
     "name": "stdout",
     "output_type": "stream",
     "text": [
      "<class 'pandas.core.frame.DataFrame'>\n",
      "RangeIndex: 256984 entries, 0 to 256983\n",
      "Data columns (total 19 columns):\n",
      " #   Column                        Non-Null Count   Dtype  \n",
      "---  ------                        --------------   -----  \n",
      " 0   Loan ID                       256984 non-null  object \n",
      " 1   Customer ID                   256984 non-null  object \n",
      " 2   Loan Status                   256984 non-null  object \n",
      " 3   Current Loan Amount           256984 non-null  int64  \n",
      " 4   Term                          256984 non-null  object \n",
      " 5   Credit Score                  195308 non-null  float64\n",
      " 6   Years in current job          245508 non-null  object \n",
      " 7   Home Ownership                256984 non-null  object \n",
      " 8   Annual Income                 195308 non-null  float64\n",
      " 9   Purpose                       256984 non-null  object \n",
      " 10  Monthly Debt                  256984 non-null  object \n",
      " 11  Years of Credit History       256984 non-null  float64\n",
      " 12  Months since last delinquent  116601 non-null  float64\n",
      " 13  Number of Open Accounts       256984 non-null  int64  \n",
      " 14  Number of Credit Problems     256984 non-null  int64  \n",
      " 15  Current Credit Balance        256984 non-null  int64  \n",
      " 16  Maximum Open Credit           256984 non-null  object \n",
      " 17  Bankruptcies                  256455 non-null  float64\n",
      " 18  Tax Liens                     256961 non-null  float64\n",
      "dtypes: float64(6), int64(4), object(9)\n",
      "memory usage: 37.3+ MB\n"
     ]
    }
   ],
   "source": [
    "df.info() "
   ]
  },
  {
   "cell_type": "code",
   "execution_count": 5,
   "id": "7bcc408e",
   "metadata": {},
   "outputs": [
    {
     "data": {
      "text/plain": [
       "Loan ID                              0\n",
       "Customer ID                          0\n",
       "Loan Status                          0\n",
       "Current Loan Amount                  0\n",
       "Term                                 0\n",
       "Credit Score                     61676\n",
       "Years in current job             11476\n",
       "Home Ownership                       0\n",
       "Annual Income                    61676\n",
       "Purpose                              0\n",
       "Monthly Debt                         0\n",
       "Years of Credit History              0\n",
       "Months since last delinquent    140383\n",
       "Number of Open Accounts              0\n",
       "Number of Credit Problems            0\n",
       "Current Credit Balance               0\n",
       "Maximum Open Credit                  0\n",
       "Bankruptcies                       529\n",
       "Tax Liens                           23\n",
       "dtype: int64"
      ]
     },
     "execution_count": 5,
     "metadata": {},
     "output_type": "execute_result"
    }
   ],
   "source": [
    "df.isnull().sum() #We examine the empty lines."
   ]
  },
  {
   "cell_type": "code",
   "execution_count": 6,
   "id": "c7de5135",
   "metadata": {},
   "outputs": [
    {
     "data": {
      "text/plain": [
       "Fully Paid     176191\n",
       "Charged Off     80793\n",
       "Name: Loan Status, dtype: int64"
      ]
     },
     "execution_count": 6,
     "metadata": {},
     "output_type": "execute_result"
    }
   ],
   "source": [
    "df[\"Loan Status\"].value_counts()"
   ]
  },
  {
   "cell_type": "code",
   "execution_count": 7,
   "id": "067f5b08",
   "metadata": {},
   "outputs": [
    {
     "data": {
      "image/png": "[encoded data removed]",
      "text/plain": [
       "<Figure size 576x576 with 2 Axes>"
      ]
     },
     "metadata": {
      "needs_background": "light"
     },
     "output_type": "display_data"
    }
   ],
   "source": [
    "plt.figure(figsize=(8,8))\n",
    "sns.heatmap(df.corr(),annot=True);"
   ]
  },
  {
   "cell_type": "markdown",
   "id": "1a1cc847",
   "metadata": {},
   "source": [
    "### Data Visualization and Feature Engineering"
   ]
  },
  {
   "cell_type": "code",
   "execution_count": 8,
   "id": "c6a445bb",
   "metadata": {},
   "outputs": [],
   "source": [
    "d={\"Fully Paid\":1,\"Charged Off\":0}\n",
    "df[\"Loan Status\"]=df[\"Loan Status\"].map(d)\n",
    "#We change the Fully Paid values in Loan Status to 1 and the Charged Off values to 0."
   ]
  },
  {
   "cell_type": "code",
   "execution_count": 9,
   "id": "83693deb",
   "metadata": {
    "scrolled": true
   },
   "outputs": [
    {
     "data": {
      "text/plain": [
       "Loan Status                     1.000000\n",
       "Current Loan Amount             0.269804\n",
       "Annual Income                   0.070328\n",
       "Years of Credit History         0.035548\n",
       "Months since last delinquent    0.023541\n",
       "Current Credit Balance          0.008838\n",
       "Bankruptcies                    0.001154\n",
       "Number of Credit Problems       0.010179\n",
       "Tax Liens                       0.012585\n",
       "Number of Open Accounts         0.020787\n",
       "Credit Score                    0.440307\n",
       "Name: Loan Status, dtype: float64"
      ]
     },
     "execution_count": 9,
     "metadata": {},
     "output_type": "execute_result"
    }
   ],
   "source": [
    "abs(df.corr()[\"Loan Status\"].sort_values(ascending=False)) #We look at their correlations."
   ]
  },
  {
   "cell_type": "code",
   "execution_count": 10,
   "id": "218411e4",
   "metadata": {},
   "outputs": [
    {
     "data": {
      "text/plain": [
       "<AxesSubplot:xlabel='Monthly Debt', ylabel='Count'>"
      ]
     },
     "execution_count": 10,
     "metadata": {},
     "output_type": "execute_result"
    },
    {
     "data": {
      "image/png": "[encoded data removed]",
      "text/plain": [
       "<Figure size 432x288 with 1 Axes>"
      ]
     },
     "metadata": {
      "needs_background": "light"
     },
     "output_type": "display_data"
    }
   ],
   "source": [
    "df['Monthly Debt'].replace('[^0-9.]','',inplace=True,regex=True) #We remove the $ sign in the data.\n",
    "df['Monthly Debt']=df['Monthly Debt'].astype(float) #We change the type to float.\n",
    "sns.histplot(df['Monthly Debt']) "
   ]
  },
  {
   "cell_type": "code",
   "execution_count": 11,
   "id": "7e077826",
   "metadata": {},
   "outputs": [
    {
     "data": {
      "text/plain": [
       "<AxesSubplot:xlabel='Monthly Debt', ylabel='Count'>"
      ]
     },
     "execution_count": 11,
     "metadata": {},
     "output_type": "execute_result"
    },
    {
     "data": {
      "image/png": "[encoded data removed]",
      "text/plain": [
       "<Figure size 432x288 with 1 Axes>"
      ]
     },
     "metadata": {
      "needs_background": "light"
     },
     "output_type": "display_data"
    }
   ],
   "source": [
    "df=df[df['Monthly Debt']<5000]\n",
    "sns.histplot(df['Monthly Debt'])"
   ]
  },
  {
   "cell_type": "code",
   "execution_count": 12,
   "id": "8d607edc",
   "metadata": {},
   "outputs": [
    {
     "data": {
      "text/plain": [
       "10+ years    78804\n",
       "2 years      23449\n",
       "< 1 year     21000\n",
       "3 years      20641\n",
       "5 years      17841\n",
       "1 year       16731\n",
       "4 years      16150\n",
       "6 years      14577\n",
       "7 years      13959\n",
       "8 years      12198\n",
       "9 years       9919\n",
       "Name: Years in current job, dtype: int64"
      ]
     },
     "execution_count": 12,
     "metadata": {},
     "output_type": "execute_result"
    }
   ],
   "source": [
    "df[\"Years in current job\"].value_counts()"
   ]
  },
  {
   "cell_type": "code",
   "execution_count": 13,
   "id": "9967eaa4",
   "metadata": {},
   "outputs": [],
   "source": [
    "df['Credit Score'].fillna(df['Credit Score'].mean(),inplace=True) \n",
    "#We fill the empty lines in the Credit Score with the mean value."
   ]
  },
  {
   "cell_type": "code",
   "execution_count": 14,
   "id": "6c3e2498",
   "metadata": {},
   "outputs": [
    {
     "data": {
      "image/png": "[encoded data removed]",
      "text/plain": [
       "<Figure size 432x288 with 1 Axes>"
      ]
     },
     "metadata": {
      "needs_background": "light"
     },
     "output_type": "display_data"
    }
   ],
   "source": [
    "sns.distplot(df['Credit Score']);"
   ]
  },
  {
   "cell_type": "code",
   "execution_count": 15,
   "id": "def6eeb0",
   "metadata": {},
   "outputs": [
    {
     "data": {
      "text/plain": [
       "<AxesSubplot:xlabel='Credit Score', ylabel='Density'>"
      ]
     },
     "execution_count": 15,
     "metadata": {},
     "output_type": "execute_result"
    },
    {
     "data": {
      "image/png": "[encoded data removed]",
      "text/plain": [
       "<Figure size 432x288 with 1 Axes>"
      ]
     },
     "metadata": {
      "needs_background": "light"
     },
     "output_type": "display_data"
    }
   ],
   "source": [
    "df=df[df['Credit Score']<2000] #We delete values above 2000 in the credit score.\n",
    "sns.distplot(df['Credit Score'])"
   ]
  },
  {
   "cell_type": "code",
   "execution_count": 16,
   "id": "48f621c4",
   "metadata": {},
   "outputs": [],
   "source": [
    "df['Annual Income'].fillna(0,inplace=True)"
   ]
  },
  {
   "cell_type": "code",
   "execution_count": 17,
   "id": "9cf501de",
   "metadata": {},
   "outputs": [
    {
     "data": {
      "image/png": "[encoded data removed]",
      "text/plain": [
       "<Figure size 432x288 with 1 Axes>"
      ]
     },
     "metadata": {
      "needs_background": "light"
     },
     "output_type": "display_data"
    }
   ],
   "source": [
    "sns.distplot(df['Annual Income']);"
   ]
  },
  {
   "cell_type": "code",
   "execution_count": 18,
   "id": "6ab95d4e",
   "metadata": {},
   "outputs": [],
   "source": [
    "df['Months since last delinquent'].fillna(0,inplace=True)"
   ]
  },
  {
   "cell_type": "code",
   "execution_count": 19,
   "id": "ed0267cc",
   "metadata": {},
   "outputs": [
    {
     "data": {
      "text/plain": [
       "<AxesSubplot:xlabel='Months since last delinquent', ylabel='Count'>"
      ]
     },
     "execution_count": 19,
     "metadata": {},
     "output_type": "execute_result"
    },
    {
     "data": {
      "image/png": "[encoded data removed]",
      "text/plain": [
       "<Figure size 432x288 with 1 Axes>"
      ]
     },
     "metadata": {
      "needs_background": "light"
     },
     "output_type": "display_data"
    }
   ],
   "source": [
    "sns.histplot(df['Months since last delinquent'])"
   ]
  },
  {
   "cell_type": "code",
   "execution_count": 20,
   "id": "5b9d1664",
   "metadata": {},
   "outputs": [
    {
     "data": {
      "text/plain": [
       "<AxesSubplot:xlabel='Months since last delinquent', ylabel='Count'>"
      ]
     },
     "execution_count": 20,
     "metadata": {},
     "output_type": "execute_result"
    },
    {
     "data": {
      "image/png": "[encoded data removed]",
      "text/plain": [
       "<Figure size 432x288 with 1 Axes>"
      ]
     },
     "metadata": {
      "needs_background": "light"
     },
     "output_type": "display_data"
    }
   ],
   "source": [
    "df=df[df['Months since last delinquent']<90]\n",
    "sns.histplot(df['Months since last delinquent'])"
   ]
  },
  {
   "cell_type": "code",
   "execution_count": 21,
   "id": "2cdfc213",
   "metadata": {},
   "outputs": [],
   "source": [
    "df['Years in current job'].replace('[^0-9]',\"\",inplace=True,regex=True) #We remove text other than numbers in the data.\n",
    "df['Years in current job'].fillna('0',inplace=True)\n",
    "df['Years in current job']=df['Years in current job'].astype(int)"
   ]
  },
  {
   "cell_type": "code",
   "execution_count": 22,
   "id": "16ced0d2",
   "metadata": {},
   "outputs": [
    {
     "data": {
      "text/plain": [
       "<AxesSubplot:xlabel='Years in current job', ylabel='Count'>"
      ]
     },
     "execution_count": 22,
     "metadata": {},
     "output_type": "execute_result"
    },
    {
     "data": {
      "image/png": "[encoded data removed]",
      "text/plain": [
       "<Figure size 432x288 with 1 Axes>"
      ]
     },
     "metadata": {
      "needs_background": "light"
     },
     "output_type": "display_data"
    }
   ],
   "source": [
    "sns.histplot(df['Years in current job'])"
   ]
  },
  {
   "cell_type": "code",
   "execution_count": 23,
   "id": "2f4df935",
   "metadata": {},
   "outputs": [],
   "source": [
    "df['Maximum Open Credit'].replace('[a-zA-Z@_!#$%^&*()<>?/\\|}{~:]',\"0\",inplace=True,regex=True)\n",
    "#We are removing the texts in Maximum Open Credit.\n",
    "df['Maximum Open Credit']=df['Maximum Open Credit'].astype(float)"
   ]
  },
  {
   "cell_type": "code",
   "execution_count": 24,
   "id": "5faf5efe",
   "metadata": {},
   "outputs": [
    {
     "data": {
      "text/plain": [
       "<AxesSubplot:xlabel='Maximum Open Credit', ylabel='Density'>"
      ]
     },
     "execution_count": 24,
     "metadata": {},
     "output_type": "execute_result"
    },
    {
     "data": {
      "image/png": "[encoded data removed]",
      "text/plain": [
       "<Figure size 432x288 with 1 Axes>"
      ]
     },
     "metadata": {
      "needs_background": "light"
     },
     "output_type": "display_data"
    }
   ],
   "source": [
    "sns.distplot(df['Maximum Open Credit'])"
   ]
  },
  {
   "cell_type": "code",
   "execution_count": 25,
   "id": "a5cafc30",
   "metadata": {},
   "outputs": [],
   "source": [
    "df['Bankruptcies'].fillna(\"0\",inplace=True)\n",
    "df['Bankruptcies']=df['Bankruptcies'].astype(int)"
   ]
  },
  {
   "cell_type": "code",
   "execution_count": 26,
   "id": "263ad9d8",
   "metadata": {},
   "outputs": [
    {
     "data": {
      "text/plain": [
       "<AxesSubplot:xlabel='Bankruptcies', ylabel='Count'>"
      ]
     },
     "execution_count": 26,
     "metadata": {},
     "output_type": "execute_result"
    },
    {
     "data": {
      "image/png": "[encoded data removed]",
      "text/plain": [
       "<Figure size 432x288 with 1 Axes>"
      ]
     },
     "metadata": {
      "needs_background": "light"
     },
     "output_type": "display_data"
    }
   ],
   "source": [
    "sns.histplot(df['Bankruptcies'])"
   ]
  },
  {
   "cell_type": "code",
   "execution_count": 27,
   "id": "fd122c3a",
   "metadata": {},
   "outputs": [
    {
     "data": {
      "text/plain": [
       "<AxesSubplot:xlabel='Bankruptcies', ylabel='Count'>"
      ]
     },
     "execution_count": 27,
     "metadata": {},
     "output_type": "execute_result"
    },
    {
     "data": {
      "image/png": "[encoded data removed]",
      "text/plain": [
       "<Figure size 432x288 with 1 Axes>"
      ]
     },
     "metadata": {
      "needs_background": "light"
     },
     "output_type": "display_data"
    }
   ],
   "source": [
    "df=df[df['Bankruptcies']<3]\n",
    "sns.histplot(df['Bankruptcies'])"
   ]
  },
  {
   "cell_type": "code",
   "execution_count": 28,
   "id": "a7731c02",
   "metadata": {},
   "outputs": [],
   "source": [
    "df['Tax Liens'].fillna(\"0\",inplace=True)\n",
    "df['Tax Liens']=df['Tax Liens'].astype(int)"
   ]
  },
  {
   "cell_type": "code",
   "execution_count": 29,
   "id": "48c4e0ff",
   "metadata": {},
   "outputs": [
    {
     "data": {
      "text/plain": [
       "<AxesSubplot:xlabel='Tax Liens', ylabel='Count'>"
      ]
     },
     "execution_count": 29,
     "metadata": {},
     "output_type": "execute_result"
    },
    {
     "data": {
      "image/png": "[encoded data removed]",
      "text/plain": [
       "<Figure size 432x288 with 1 Axes>"
      ]
     },
     "metadata": {
      "needs_background": "light"
     },
     "output_type": "display_data"
    }
   ],
   "source": [
    "sns.histplot(df['Tax Liens'])"
   ]
  },
  {
   "cell_type": "code",
   "execution_count": 30,
   "id": "7fec1953",
   "metadata": {},
   "outputs": [
    {
     "data": {
      "text/plain": [
       "<AxesSubplot:xlabel='Tax Liens', ylabel='Count'>"
      ]
     },
     "execution_count": 30,
     "metadata": {},
     "output_type": "execute_result"
    },
    {
     "data": {
      "image/png": "[encoded data removed]",
      "text/plain": [
       "<Figure size 432x288 with 1 Axes>"
      ]
     },
     "metadata": {
      "needs_background": "light"
     },
     "output_type": "display_data"
    }
   ],
   "source": [
    "df=df[df['Tax Liens']<3]\n",
    "sns.histplot(df['Tax Liens'])"
   ]
  },
  {
   "cell_type": "code",
   "execution_count": 31,
   "id": "93eb375b",
   "metadata": {},
   "outputs": [
    {
     "data": {
      "text/plain": [
       "Loan ID                         0\n",
       "Customer ID                     0\n",
       "Loan Status                     0\n",
       "Current Loan Amount             0\n",
       "Term                            0\n",
       "Credit Score                    0\n",
       "Years in current job            0\n",
       "Home Ownership                  0\n",
       "Annual Income                   0\n",
       "Purpose                         0\n",
       "Monthly Debt                    0\n",
       "Years of Credit History         0\n",
       "Months since last delinquent    0\n",
       "Number of Open Accounts         0\n",
       "Number of Credit Problems       0\n",
       "Current Credit Balance          0\n",
       "Maximum Open Credit             0\n",
       "Bankruptcies                    0\n",
       "Tax Liens                       0\n",
       "dtype: int64"
      ]
     },
     "execution_count": 31,
     "metadata": {},
     "output_type": "execute_result"
    }
   ],
   "source": [
    "df.isnull().sum()"
   ]
  },
  {
   "cell_type": "code",
   "execution_count": 32,
   "id": "3faedc19",
   "metadata": {},
   "outputs": [
    {
     "data": {
      "text/plain": [
       "Loan Status                     1.000000\n",
       "Current Loan Amount             0.250491\n",
       "Annual Income                   0.079548\n",
       "Years of Credit History         0.034725\n",
       "Years in current job            0.020710\n",
       "Current Credit Balance          0.009996\n",
       "Maximum Open Credit             0.007773\n",
       "Bankruptcies                    0.000405\n",
       "Months since last delinquent    0.000162\n",
       "Number of Credit Problems       0.008780\n",
       "Tax Liens                       0.010549\n",
       "Monthly Debt                    0.015785\n",
       "Number of Open Accounts         0.019751\n",
       "Credit Score                    0.040487\n",
       "Name: Loan Status, dtype: float64"
      ]
     },
     "execution_count": 32,
     "metadata": {},
     "output_type": "execute_result"
    }
   ],
   "source": [
    "abs(df.corr()[\"Loan Status\"].sort_values(ascending=False))"
   ]
  },
  {
   "cell_type": "code",
   "execution_count": 33,
   "id": "769a43a7",
   "metadata": {},
   "outputs": [
    {
     "data": {
      "text/plain": [
       "Home Mortgage    116914\n",
       "Rent             101032\n",
       "Own Home          21332\n",
       "HaveMortgage        539\n",
       "Name: Home Ownership, dtype: int64"
      ]
     },
     "execution_count": 33,
     "metadata": {},
     "output_type": "execute_result"
    }
   ],
   "source": [
    "df['Home Ownership'].value_counts() "
   ]
  },
  {
   "cell_type": "code",
   "execution_count": 34,
   "id": "fb37b6a8",
   "metadata": {},
   "outputs": [
    {
     "data": {
      "text/plain": [
       "Mortgage    117453\n",
       "Rent        101032\n",
       "Own Home     21332\n",
       "Name: Home Ownership, dtype: int64"
      ]
     },
     "execution_count": 34,
     "metadata": {},
     "output_type": "execute_result"
    }
   ],
   "source": [
    "df['Home Ownership'].replace(['HaveMortgage','Home Mortgage'],'Mortgage',inplace=True)\n",
    "df['Home Ownership'].value_counts()"
   ]
  },
  {
   "cell_type": "code",
   "execution_count": 35,
   "id": "a49adfbf",
   "metadata": {},
   "outputs": [
    {
     "data": {
      "text/plain": [
       "Debt Consolidation      190288\n",
       "Home Improvements        14012\n",
       "other                    13238\n",
       "Other                     9104\n",
       "Business Loan             4241\n",
       "Buy a Car                 3126\n",
       "Medical Bills             2654\n",
       "Take a Trip               1474\n",
       "Buy House                 1427\n",
       "Educational Expenses       253\n",
       "Name: Purpose, dtype: int64"
      ]
     },
     "execution_count": 35,
     "metadata": {},
     "output_type": "execute_result"
    }
   ],
   "source": [
    "df['Purpose'].value_counts()"
   ]
  },
  {
   "cell_type": "code",
   "execution_count": 36,
   "id": "e1a51a55",
   "metadata": {},
   "outputs": [
    {
     "data": {
      "text/plain": [
       "Debt Consolidation      190288\n",
       "Other                    22342\n",
       "Home Improvements        14012\n",
       "Business Loan             4241\n",
       "Buy a Car                 3126\n",
       "Medical Bills             2654\n",
       "Take a Trip               1474\n",
       "Buy House                 1427\n",
       "Educational Expenses       253\n",
       "Name: Purpose, dtype: int64"
      ]
     },
     "execution_count": 36,
     "metadata": {},
     "output_type": "execute_result"
    }
   ],
   "source": [
    "df['Purpose'].replace('other','Other',inplace=True)\n",
    "df['Purpose'].value_counts()"
   ]
  },
  {
   "cell_type": "code",
   "execution_count": 37,
   "id": "85ac4af5",
   "metadata": {},
   "outputs": [
    {
     "name": "stdout",
     "output_type": "stream",
     "text": [
      "<class 'pandas.core.frame.DataFrame'>\n",
      "Int64Index: 239817 entries, 0 to 256983\n",
      "Data columns (total 19 columns):\n",
      " #   Column                        Non-Null Count   Dtype  \n",
      "---  ------                        --------------   -----  \n",
      " 0   Loan ID                       239817 non-null  object \n",
      " 1   Customer ID                   239817 non-null  object \n",
      " 2   Loan Status                   239817 non-null  int64  \n",
      " 3   Current Loan Amount           239817 non-null  int64  \n",
      " 4   Term                          239817 non-null  object \n",
      " 5   Credit Score                  239817 non-null  float64\n",
      " 6   Years in current job          239817 non-null  int32  \n",
      " 7   Home Ownership                239817 non-null  object \n",
      " 8   Annual Income                 239817 non-null  float64\n",
      " 9   Purpose                       239817 non-null  object \n",
      " 10  Monthly Debt                  239817 non-null  float64\n",
      " 11  Years of Credit History       239817 non-null  float64\n",
      " 12  Months since last delinquent  239817 non-null  float64\n",
      " 13  Number of Open Accounts       239817 non-null  int64  \n",
      " 14  Number of Credit Problems     239817 non-null  int64  \n",
      " 15  Current Credit Balance        239817 non-null  int64  \n",
      " 16  Maximum Open Credit           239817 non-null  float64\n",
      " 17  Bankruptcies                  239817 non-null  int32  \n",
      " 18  Tax Liens                     239817 non-null  int32  \n",
      "dtypes: float64(6), int32(3), int64(5), object(5)\n",
      "memory usage: 33.8+ MB\n"
     ]
    }
   ],
   "source": [
    "df.info()"
   ]
  },
  {
   "cell_type": "markdown",
   "id": "4f4df374",
   "metadata": {},
   "source": [
    "### Classification"
   ]
  },
  {
   "cell_type": "code",
   "execution_count": 38,
   "id": "9a3ec350",
   "metadata": {},
   "outputs": [],
   "source": [
    "x=df.drop(['Loan ID','Customer ID','Loan Status'],axis=1)"
   ]
  },
  {
   "cell_type": "code",
   "execution_count": 39,
   "id": "40793121",
   "metadata": {},
   "outputs": [],
   "source": [
    "y=df[[\"Loan Status\"]]"
   ]
  },
  {
   "cell_type": "code",
   "execution_count": 40,
   "id": "27fa66be",
   "metadata": {},
   "outputs": [],
   "source": [
    "x=pd.get_dummies(x,drop_first=True)"
   ]
  },
  {
   "cell_type": "code",
   "execution_count": 41,
   "id": "fd07a1a3",
   "metadata": {},
   "outputs": [
    {
     "data": {
      "text/html": [
       "<div>\n",
       "<style scoped>\n",
       "    .dataframe tbody tr th:only-of-type {\n",
       "        vertical-align: middle;\n",
       "    }\n",
       "\n",
       "    .dataframe tbody tr th {\n",
       "        vertical-align: top;\n",
       "    }\n",
       "\n",
       "    .dataframe thead th {\n",
       "        text-align: right;\n",
       "    }\n",
       "</style>\n",
       "<table border=\"1\" class=\"dataframe\">\n",
       "  <thead>\n",
       "    <tr style=\"text-align: right;\">\n",
       "      <th></th>\n",
       "      <th>Current Loan Amount</th>\n",
       "      <th>Credit Score</th>\n",
       "      <th>Years in current job</th>\n",
       "      <th>Annual Income</th>\n",
       "      <th>Monthly Debt</th>\n",
       "      <th>Years of Credit History</th>\n",
       "      <th>Months since last delinquent</th>\n",
       "      <th>Number of Open Accounts</th>\n",
       "      <th>Number of Credit Problems</th>\n",
       "      <th>Current Credit Balance</th>\n",
       "      <th>Maximum Open Credit</th>\n",
       "      <th>Bankruptcies</th>\n",
       "      <th>Tax Liens</th>\n",
       "      <th>Term_Short Term</th>\n",
       "      <th>Home Ownership_Own Home</th>\n",
       "      <th>Home Ownership_Rent</th>\n",
       "      <th>Purpose_Buy House</th>\n",
       "      <th>Purpose_Buy a Car</th>\n",
       "      <th>Purpose_Debt Consolidation</th>\n",
       "      <th>Purpose_Educational Expenses</th>\n",
       "      <th>Purpose_Home Improvements</th>\n",
       "      <th>Purpose_Medical Bills</th>\n",
       "      <th>Purpose_Other</th>\n",
       "      <th>Purpose_Take a Trip</th>\n",
       "    </tr>\n",
       "  </thead>\n",
       "  <tbody>\n",
       "    <tr>\n",
       "      <th>0</th>\n",
       "      <td>11520</td>\n",
       "      <td>741.000000</td>\n",
       "      <td>10</td>\n",
       "      <td>33694.0</td>\n",
       "      <td>584.03</td>\n",
       "      <td>12.3</td>\n",
       "      <td>41.0</td>\n",
       "      <td>10</td>\n",
       "      <td>0</td>\n",
       "      <td>6760</td>\n",
       "      <td>16056.0</td>\n",
       "      <td>0</td>\n",
       "      <td>0</td>\n",
       "      <td>1</td>\n",
       "      <td>0</td>\n",
       "      <td>0</td>\n",
       "      <td>0</td>\n",
       "      <td>0</td>\n",
       "      <td>1</td>\n",
       "      <td>0</td>\n",
       "      <td>0</td>\n",
       "      <td>0</td>\n",
       "      <td>0</td>\n",
       "      <td>0</td>\n",
       "    </tr>\n",
       "    <tr>\n",
       "      <th>1</th>\n",
       "      <td>3441</td>\n",
       "      <td>734.000000</td>\n",
       "      <td>4</td>\n",
       "      <td>42269.0</td>\n",
       "      <td>1106.04</td>\n",
       "      <td>26.3</td>\n",
       "      <td>0.0</td>\n",
       "      <td>17</td>\n",
       "      <td>0</td>\n",
       "      <td>6262</td>\n",
       "      <td>19149.0</td>\n",
       "      <td>0</td>\n",
       "      <td>0</td>\n",
       "      <td>1</td>\n",
       "      <td>0</td>\n",
       "      <td>0</td>\n",
       "      <td>0</td>\n",
       "      <td>0</td>\n",
       "      <td>0</td>\n",
       "      <td>0</td>\n",
       "      <td>0</td>\n",
       "      <td>0</td>\n",
       "      <td>1</td>\n",
       "      <td>0</td>\n",
       "    </tr>\n",
       "    <tr>\n",
       "      <th>2</th>\n",
       "      <td>21029</td>\n",
       "      <td>747.000000</td>\n",
       "      <td>10</td>\n",
       "      <td>90126.0</td>\n",
       "      <td>1321.85</td>\n",
       "      <td>28.8</td>\n",
       "      <td>0.0</td>\n",
       "      <td>5</td>\n",
       "      <td>0</td>\n",
       "      <td>20967</td>\n",
       "      <td>28335.0</td>\n",
       "      <td>0</td>\n",
       "      <td>0</td>\n",
       "      <td>1</td>\n",
       "      <td>0</td>\n",
       "      <td>0</td>\n",
       "      <td>0</td>\n",
       "      <td>0</td>\n",
       "      <td>1</td>\n",
       "      <td>0</td>\n",
       "      <td>0</td>\n",
       "      <td>0</td>\n",
       "      <td>0</td>\n",
       "      <td>0</td>\n",
       "    </tr>\n",
       "    <tr>\n",
       "      <th>3</th>\n",
       "      <td>18743</td>\n",
       "      <td>747.000000</td>\n",
       "      <td>10</td>\n",
       "      <td>38072.0</td>\n",
       "      <td>751.92</td>\n",
       "      <td>26.2</td>\n",
       "      <td>0.0</td>\n",
       "      <td>9</td>\n",
       "      <td>0</td>\n",
       "      <td>22529</td>\n",
       "      <td>43915.0</td>\n",
       "      <td>0</td>\n",
       "      <td>0</td>\n",
       "      <td>1</td>\n",
       "      <td>1</td>\n",
       "      <td>0</td>\n",
       "      <td>0</td>\n",
       "      <td>0</td>\n",
       "      <td>1</td>\n",
       "      <td>0</td>\n",
       "      <td>0</td>\n",
       "      <td>0</td>\n",
       "      <td>0</td>\n",
       "      <td>0</td>\n",
       "    </tr>\n",
       "    <tr>\n",
       "      <th>4</th>\n",
       "      <td>11731</td>\n",
       "      <td>746.000000</td>\n",
       "      <td>4</td>\n",
       "      <td>50025.0</td>\n",
       "      <td>355.18</td>\n",
       "      <td>11.5</td>\n",
       "      <td>0.0</td>\n",
       "      <td>12</td>\n",
       "      <td>0</td>\n",
       "      <td>17391</td>\n",
       "      <td>37081.0</td>\n",
       "      <td>0</td>\n",
       "      <td>0</td>\n",
       "      <td>1</td>\n",
       "      <td>0</td>\n",
       "      <td>1</td>\n",
       "      <td>0</td>\n",
       "      <td>0</td>\n",
       "      <td>1</td>\n",
       "      <td>0</td>\n",
       "      <td>0</td>\n",
       "      <td>0</td>\n",
       "      <td>0</td>\n",
       "      <td>0</td>\n",
       "    </tr>\n",
       "    <tr>\n",
       "      <th>...</th>\n",
       "      <td>...</td>\n",
       "      <td>...</td>\n",
       "      <td>...</td>\n",
       "      <td>...</td>\n",
       "      <td>...</td>\n",
       "      <td>...</td>\n",
       "      <td>...</td>\n",
       "      <td>...</td>\n",
       "      <td>...</td>\n",
       "      <td>...</td>\n",
       "      <td>...</td>\n",
       "      <td>...</td>\n",
       "      <td>...</td>\n",
       "      <td>...</td>\n",
       "      <td>...</td>\n",
       "      <td>...</td>\n",
       "      <td>...</td>\n",
       "      <td>...</td>\n",
       "      <td>...</td>\n",
       "      <td>...</td>\n",
       "      <td>...</td>\n",
       "      <td>...</td>\n",
       "      <td>...</td>\n",
       "      <td>...</td>\n",
       "    </tr>\n",
       "    <tr>\n",
       "      <th>256978</th>\n",
       "      <td>11953</td>\n",
       "      <td>717.000000</td>\n",
       "      <td>10</td>\n",
       "      <td>39844.0</td>\n",
       "      <td>982.82</td>\n",
       "      <td>11.7</td>\n",
       "      <td>0.0</td>\n",
       "      <td>9</td>\n",
       "      <td>1</td>\n",
       "      <td>4176</td>\n",
       "      <td>4783.0</td>\n",
       "      <td>1</td>\n",
       "      <td>0</td>\n",
       "      <td>1</td>\n",
       "      <td>0</td>\n",
       "      <td>0</td>\n",
       "      <td>0</td>\n",
       "      <td>0</td>\n",
       "      <td>1</td>\n",
       "      <td>0</td>\n",
       "      <td>0</td>\n",
       "      <td>0</td>\n",
       "      <td>0</td>\n",
       "      <td>0</td>\n",
       "    </tr>\n",
       "    <tr>\n",
       "      <th>256979</th>\n",
       "      <td>3911</td>\n",
       "      <td>1251.188242</td>\n",
       "      <td>2</td>\n",
       "      <td>0.0</td>\n",
       "      <td>1706.58</td>\n",
       "      <td>19.9</td>\n",
       "      <td>0.0</td>\n",
       "      <td>16</td>\n",
       "      <td>0</td>\n",
       "      <td>43992</td>\n",
       "      <td>44080.0</td>\n",
       "      <td>0</td>\n",
       "      <td>0</td>\n",
       "      <td>1</td>\n",
       "      <td>0</td>\n",
       "      <td>1</td>\n",
       "      <td>0</td>\n",
       "      <td>0</td>\n",
       "      <td>1</td>\n",
       "      <td>0</td>\n",
       "      <td>0</td>\n",
       "      <td>0</td>\n",
       "      <td>0</td>\n",
       "      <td>0</td>\n",
       "    </tr>\n",
       "    <tr>\n",
       "      <th>256980</th>\n",
       "      <td>5078</td>\n",
       "      <td>737.000000</td>\n",
       "      <td>10</td>\n",
       "      <td>77186.0</td>\n",
       "      <td>1376.47</td>\n",
       "      <td>19.1</td>\n",
       "      <td>47.0</td>\n",
       "      <td>9</td>\n",
       "      <td>0</td>\n",
       "      <td>1717</td>\n",
       "      <td>9758.0</td>\n",
       "      <td>0</td>\n",
       "      <td>0</td>\n",
       "      <td>1</td>\n",
       "      <td>1</td>\n",
       "      <td>0</td>\n",
       "      <td>0</td>\n",
       "      <td>0</td>\n",
       "      <td>1</td>\n",
       "      <td>0</td>\n",
       "      <td>0</td>\n",
       "      <td>0</td>\n",
       "      <td>0</td>\n",
       "      <td>0</td>\n",
       "    </tr>\n",
       "    <tr>\n",
       "      <th>256982</th>\n",
       "      <td>12116</td>\n",
       "      <td>746.000000</td>\n",
       "      <td>9</td>\n",
       "      <td>52504.0</td>\n",
       "      <td>297.96</td>\n",
       "      <td>15.1</td>\n",
       "      <td>82.0</td>\n",
       "      <td>8</td>\n",
       "      <td>0</td>\n",
       "      <td>3315</td>\n",
       "      <td>20090.0</td>\n",
       "      <td>0</td>\n",
       "      <td>0</td>\n",
       "      <td>1</td>\n",
       "      <td>0</td>\n",
       "      <td>0</td>\n",
       "      <td>0</td>\n",
       "      <td>0</td>\n",
       "      <td>1</td>\n",
       "      <td>0</td>\n",
       "      <td>0</td>\n",
       "      <td>0</td>\n",
       "      <td>0</td>\n",
       "      <td>0</td>\n",
       "    </tr>\n",
       "    <tr>\n",
       "      <th>256983</th>\n",
       "      <td>27902</td>\n",
       "      <td>678.000000</td>\n",
       "      <td>10</td>\n",
       "      <td>117480.0</td>\n",
       "      <td>2525.82</td>\n",
       "      <td>18.0</td>\n",
       "      <td>11.0</td>\n",
       "      <td>10</td>\n",
       "      <td>0</td>\n",
       "      <td>28317</td>\n",
       "      <td>62371.0</td>\n",
       "      <td>0</td>\n",
       "      <td>0</td>\n",
       "      <td>0</td>\n",
       "      <td>0</td>\n",
       "      <td>0</td>\n",
       "      <td>0</td>\n",
       "      <td>0</td>\n",
       "      <td>1</td>\n",
       "      <td>0</td>\n",
       "      <td>0</td>\n",
       "      <td>0</td>\n",
       "      <td>0</td>\n",
       "      <td>0</td>\n",
       "    </tr>\n",
       "  </tbody>\n",
       "</table>\n",
       "<p>239817 rows × 24 columns</p>\n",
       "</div>"
      ],
      "text/plain": [
       "        Current Loan Amount  Credit Score  Years in current job  \\\n",
       "0                     11520    741.000000                    10   \n",
       "1                      3441    734.000000                     4   \n",
       "2                     21029    747.000000                    10   \n",
       "3                     18743    747.000000                    10   \n",
       "4                     11731    746.000000                     4   \n",
       "...                     ...           ...                   ...   \n",
       "256978                11953    717.000000                    10   \n",
       "256979                 3911   1251.188242                     2   \n",
       "256980                 5078    737.000000                    10   \n",
       "256982                12116    746.000000                     9   \n",
       "256983                27902    678.000000                    10   \n",
       "\n",
       "        Annual Income  Monthly Debt  Years of Credit History  \\\n",
       "0             33694.0        584.03                     12.3   \n",
       "1             42269.0       1106.04                     26.3   \n",
       "2             90126.0       1321.85                     28.8   \n",
       "3             38072.0        751.92                     26.2   \n",
       "4             50025.0        355.18                     11.5   \n",
       "...               ...           ...                      ...   \n",
       "256978        39844.0        982.82                     11.7   \n",
       "256979            0.0       1706.58                     19.9   \n",
       "256980        77186.0       1376.47                     19.1   \n",
       "256982        52504.0        297.96                     15.1   \n",
       "256983       117480.0       2525.82                     18.0   \n",
       "\n",
       "        Months since last delinquent  Number of Open Accounts  \\\n",
       "0                               41.0                       10   \n",
       "1                                0.0                       17   \n",
       "2                                0.0                        5   \n",
       "3                                0.0                        9   \n",
       "4                                0.0                       12   \n",
       "...                              ...                      ...   \n",
       "256978                           0.0                        9   \n",
       "256979                           0.0                       16   \n",
       "256980                          47.0                        9   \n",
       "256982                          82.0                        8   \n",
       "256983                          11.0                       10   \n",
       "\n",
       "        Number of Credit Problems  Current Credit Balance  \\\n",
       "0                               0                    6760   \n",
       "1                               0                    6262   \n",
       "2                               0                   20967   \n",
       "3                               0                   22529   \n",
       "4                               0                   17391   \n",
       "...                           ...                     ...   \n",
       "256978                          1                    4176   \n",
       "256979                          0                   43992   \n",
       "256980                          0                    1717   \n",
       "256982                          0                    3315   \n",
       "256983                          0                   28317   \n",
       "\n",
       "        Maximum Open Credit  Bankruptcies  Tax Liens  Term_Short Term  \\\n",
       "0                   16056.0             0          0                1   \n",
       "1                   19149.0             0          0                1   \n",
       "2                   28335.0             0          0                1   \n",
       "3                   43915.0             0          0                1   \n",
       "4                   37081.0             0          0                1   \n",
       "...                     ...           ...        ...              ...   \n",
       "256978               4783.0             1          0                1   \n",
       "256979              44080.0             0          0                1   \n",
       "256980               9758.0             0          0                1   \n",
       "256982              20090.0             0          0                1   \n",
       "256983              62371.0             0          0                0   \n",
       "\n",
       "        Home Ownership_Own Home  Home Ownership_Rent  Purpose_Buy House  \\\n",
       "0                             0                    0                  0   \n",
       "1                             0                    0                  0   \n",
       "2                             0                    0                  0   \n",
       "3                             1                    0                  0   \n",
       "4                             0                    1                  0   \n",
       "...                         ...                  ...                ...   \n",
       "256978                        0                    0                  0   \n",
       "256979                        0                    1                  0   \n",
       "256980                        1                    0                  0   \n",
       "256982                        0                    0                  0   \n",
       "256983                        0                    0                  0   \n",
       "\n",
       "        Purpose_Buy a Car  Purpose_Debt Consolidation  \\\n",
       "0                       0                           1   \n",
       "1                       0                           0   \n",
       "2                       0                           1   \n",
       "3                       0                           1   \n",
       "4                       0                           1   \n",
       "...                   ...                         ...   \n",
       "256978                  0                           1   \n",
       "256979                  0                           1   \n",
       "256980                  0                           1   \n",
       "256982                  0                           1   \n",
       "256983                  0                           1   \n",
       "\n",
       "        Purpose_Educational Expenses  Purpose_Home Improvements  \\\n",
       "0                                  0                          0   \n",
       "1                                  0                          0   \n",
       "2                                  0                          0   \n",
       "3                                  0                          0   \n",
       "4                                  0                          0   \n",
       "...                              ...                        ...   \n",
       "256978                             0                          0   \n",
       "256979                             0                          0   \n",
       "256980                             0                          0   \n",
       "256982                             0                          0   \n",
       "256983                             0                          0   \n",
       "\n",
       "        Purpose_Medical Bills  Purpose_Other  Purpose_Take a Trip  \n",
       "0                           0              0                    0  \n",
       "1                           0              1                    0  \n",
       "2                           0              0                    0  \n",
       "3                           0              0                    0  \n",
       "4                           0              0                    0  \n",
       "...                       ...            ...                  ...  \n",
       "256978                      0              0                    0  \n",
       "256979                      0              0                    0  \n",
       "256980                      0              0                    0  \n",
       "256982                      0              0                    0  \n",
       "256983                      0              0                    0  \n",
       "\n",
       "[239817 rows x 24 columns]"
      ]
     },
     "execution_count": 41,
     "metadata": {},
     "output_type": "execute_result"
    }
   ],
   "source": [
    "x"
   ]
  },
  {
   "cell_type": "code",
   "execution_count": 42,
   "id": "61a75224",
   "metadata": {},
   "outputs": [
    {
     "data": {
      "text/plain": [
       "array([[12792, 27948],\n",
       "       [   41,  7183]], dtype=int64)"
      ]
     },
     "execution_count": 42,
     "metadata": {},
     "output_type": "execute_result"
    }
   ],
   "source": [
    "g=GaussianNB()\n",
    "x_train, x_test, y_train, y_test=train_test_split(x,y,test_size=0.2,random_state=13)\n",
    "g.fit(x_train,y_train)    \n",
    "confusion_matrix(g.predict(x_test),y_test)"
   ]
  },
  {
   "cell_type": "code",
   "execution_count": 43,
   "id": "96d8c421",
   "metadata": {},
   "outputs": [
    {
     "data": {
      "text/plain": [
       "array([[  373,   296],\n",
       "       [12460, 34835]], dtype=int64)"
      ]
     },
     "execution_count": 43,
     "metadata": {},
     "output_type": "execute_result"
    }
   ],
   "source": [
    "b=BernoulliNB()\n",
    "x_train, x_test, y_train, y_test=train_test_split(x,y,test_size=0.2,random_state=13)\n",
    "b.fit(x_train,y_train)    \n",
    "confusion_matrix(b.predict(x_test),y_test)"
   ]
  },
  {
   "cell_type": "code",
   "execution_count": 44,
   "id": "6ff5fd63",
   "metadata": {},
   "outputs": [
    {
     "data": {
      "text/plain": [
       "array([[ 4130,  5454],\n",
       "       [ 8703, 29677]], dtype=int64)"
      ]
     },
     "execution_count": 44,
     "metadata": {},
     "output_type": "execute_result"
    }
   ],
   "source": [
    "k=KNeighborsClassifier()\n",
    "x_train, x_test, y_train, y_test=train_test_split(x,y,test_size=0.2,random_state=13)\n",
    "k.fit(x_train,y_train)    \n",
    "confusion_matrix(k.predict(x_test),y_test)"
   ]
  },
  {
   "cell_type": "code",
   "execution_count": 45,
   "id": "1a856f15",
   "metadata": {},
   "outputs": [
    {
     "data": {
      "text/plain": [
       "array([[   12,    37],\n",
       "       [12821, 35094]], dtype=int64)"
      ]
     },
     "execution_count": 45,
     "metadata": {},
     "output_type": "execute_result"
    }
   ],
   "source": [
    "l=LogisticRegression()\n",
    "x_train, x_test, y_train, y_test=train_test_split(x,y,test_size=0.2,random_state=13)\n",
    "l.fit(x_train,y_train)    \n",
    "confusion_matrix(l.predict(x_test),y_test)"
   ]
  },
  {
   "cell_type": "code",
   "execution_count": 46,
   "id": "773902a8",
   "metadata": {},
   "outputs": [
    {
     "data": {
      "text/plain": [
       "array([[ 7885,  7157],\n",
       "       [ 4948, 27974]], dtype=int64)"
      ]
     },
     "execution_count": 46,
     "metadata": {},
     "output_type": "execute_result"
    }
   ],
   "source": [
    "d=DecisionTreeClassifier()\n",
    "x_train, x_test, y_train, y_test=train_test_split(x,y,test_size=0.2,random_state=13)\n",
    "d.fit(x_train,y_train)    \n",
    "confusion_matrix(d.predict(x_test),y_test)"
   ]
  },
  {
   "cell_type": "code",
   "execution_count": 47,
   "id": "b24390da",
   "metadata": {},
   "outputs": [
    {
     "data": {
      "text/plain": [
       "array([[ 6510,  1727],\n",
       "       [ 6323, 33404]], dtype=int64)"
      ]
     },
     "execution_count": 47,
     "metadata": {},
     "output_type": "execute_result"
    }
   ],
   "source": [
    "r=RandomForestClassifier()\n",
    "x_train, x_test, y_train, y_test=train_test_split(x,y,test_size=0.2,random_state=13)\n",
    "r.fit(x_train,y_train)    \n",
    "confusion_matrix(r.predict(x_test),y_test)"
   ]
  },
  {
   "cell_type": "code",
   "execution_count": 48,
   "id": "fbd6e7b6",
   "metadata": {},
   "outputs": [
    {
     "data": {
      "text/plain": [
       "array([[ 2551,  1732],\n",
       "       [10282, 33399]], dtype=int64)"
      ]
     },
     "execution_count": 48,
     "metadata": {},
     "output_type": "execute_result"
    }
   ],
   "source": [
    "gb=GradientBoostingClassifier()\n",
    "x_train, x_test, y_train, y_test=train_test_split(x,y,test_size=0.2,random_state=13)\n",
    "gb.fit(x_train,y_train)    \n",
    "confusion_matrix(gb.predict(x_test),y_test)"
   ]
  },
  {
   "cell_type": "code",
   "execution_count": 49,
   "id": "3e6b2cc5",
   "metadata": {},
   "outputs": [],
   "source": [
    "def classification_funct(x,y):\n",
    "    from sklearn.naive_bayes import GaussianNB\n",
    "    from sklearn.naive_bayes import BernoulliNB\n",
    "    from sklearn.neighbors import KNeighborsClassifier\n",
    "    from sklearn.tree import DecisionTreeClassifier\n",
    "    from sklearn.ensemble import RandomForestClassifier\n",
    "    from sklearn.linear_model import LogisticRegression\n",
    "    from xgboost import XGBClassifier \n",
    "    \n",
    "    from sklearn.metrics import accuracy_score,precision_score,recall_score,f1_score\n",
    "    from sklearn.metrics import confusion_matrix,classification_report\n",
    "    \n",
    "    x_train,x_test,y_train,y_test=train_test_split(x,y,test_size=0.2,random_state=60)\n",
    "    \n",
    "    print(x_train.shape,x_test.shape,y_train.shape,y_test.shape)\n",
    "    \n",
    "    g=GaussianNB()\n",
    "    b=BernoulliNB()\n",
    "    KN=KNeighborsClassifier()\n",
    "    D=DecisionTreeClassifier()\n",
    "    R=RandomForestClassifier()\n",
    "    Log=LogisticRegression()\n",
    "    XGBC=XGBClassifier()\n",
    "    \n",
    "    algos=[g,b,KN,D,R,Log,XGBC]\n",
    "    algo_names=['GaussianNB','BernoulliNB','KNeighborsClassifier','DecisionTreeClassifier','RandomForestClassifier','LogisticRegression','XGBClassifier']\n",
    "    \n",
    "    accuracy_scored=[]\n",
    "    precision_scored=[]\n",
    "    recall_scored=[]\n",
    "    f1_scored=[]\n",
    "    \n",
    "    for item in algos:\n",
    "        item.fit(x_train,y_train)\n",
    "        accuracy_scored.append(accuracy_score(y_test,item.predict(x_test)))\n",
    "        precision_scored.append(precision_score(y_test,item.predict(x_test)))\n",
    "        recall_scored.append(recall_score(y_test,item.predict(x_test)))\n",
    "        f1_scored.append(f1_score(y_test,item.predict(x_test)))\n",
    "        \n",
    "    result=pd.DataFrame(columns=['f1_score','recall_score','precision_score','accuracy_score'],index=algo_names)\n",
    "    result.f1_score=f1_scored\n",
    "    result.recall_score=recall_scored\n",
    "    result.precision_score=precision_scored\n",
    "    result.accuracy_score=accuracy_scored\n",
    "    classification_funct.result=result.sort_values('f1_score',ascending=False)\n",
    "    return result.sort_values('f1_score',ascending=False)"
   ]
  },
  {
   "cell_type": "code",
   "execution_count": 50,
   "id": "be39a434",
   "metadata": {},
   "outputs": [
    {
     "name": "stdout",
     "output_type": "stream",
     "text": [
      "(191853, 24) (47964, 24) (191853, 1) (47964, 1)\n"
     ]
    },
    {
     "data": {
      "text/html": [
       "<div>\n",
       "<style scoped>\n",
       "    .dataframe tbody tr th:only-of-type {\n",
       "        vertical-align: middle;\n",
       "    }\n",
       "\n",
       "    .dataframe tbody tr th {\n",
       "        vertical-align: top;\n",
       "    }\n",
       "\n",
       "    .dataframe thead th {\n",
       "        text-align: right;\n",
       "    }\n",
       "</style>\n",
       "<table border=\"1\" class=\"dataframe\">\n",
       "  <thead>\n",
       "    <tr style=\"text-align: right;\">\n",
       "      <th></th>\n",
       "      <th>f1_score</th>\n",
       "      <th>recall_score</th>\n",
       "      <th>precision_score</th>\n",
       "      <th>accuracy_score</th>\n",
       "    </tr>\n",
       "  </thead>\n",
       "  <tbody>\n",
       "    <tr>\n",
       "      <th>RandomForestClassifier</th>\n",
       "      <td>0.892964</td>\n",
       "      <td>0.951170</td>\n",
       "      <td>0.841471</td>\n",
       "      <td>0.832541</td>\n",
       "    </tr>\n",
       "    <tr>\n",
       "      <th>XGBClassifier</th>\n",
       "      <td>0.847347</td>\n",
       "      <td>0.926840</td>\n",
       "      <td>0.780413</td>\n",
       "      <td>0.754754</td>\n",
       "    </tr>\n",
       "    <tr>\n",
       "      <th>LogisticRegression</th>\n",
       "      <td>0.846555</td>\n",
       "      <td>0.999120</td>\n",
       "      <td>0.734412</td>\n",
       "      <td>0.734009</td>\n",
       "    </tr>\n",
       "    <tr>\n",
       "      <th>BernoulliNB</th>\n",
       "      <td>0.845929</td>\n",
       "      <td>0.990347</td>\n",
       "      <td>0.738270</td>\n",
       "      <td>0.735072</td>\n",
       "    </tr>\n",
       "    <tr>\n",
       "      <th>DecisionTreeClassifier</th>\n",
       "      <td>0.821598</td>\n",
       "      <td>0.795509</td>\n",
       "      <td>0.849456</td>\n",
       "      <td>0.746289</td>\n",
       "    </tr>\n",
       "    <tr>\n",
       "      <th>KNeighborsClassifier</th>\n",
       "      <td>0.808255</td>\n",
       "      <td>0.845531</td>\n",
       "      <td>0.774127</td>\n",
       "      <td>0.705383</td>\n",
       "    </tr>\n",
       "    <tr>\n",
       "      <th>GaussianNB</th>\n",
       "      <td>0.343040</td>\n",
       "      <td>0.207188</td>\n",
       "      <td>0.996314</td>\n",
       "      <td>0.417209</td>\n",
       "    </tr>\n",
       "  </tbody>\n",
       "</table>\n",
       "</div>"
      ],
      "text/plain": [
       "                        f1_score  recall_score  precision_score  \\\n",
       "RandomForestClassifier  0.892964      0.951170         0.841471   \n",
       "XGBClassifier           0.847347      0.926840         0.780413   \n",
       "LogisticRegression      0.846555      0.999120         0.734412   \n",
       "BernoulliNB             0.845929      0.990347         0.738270   \n",
       "DecisionTreeClassifier  0.821598      0.795509         0.849456   \n",
       "KNeighborsClassifier    0.808255      0.845531         0.774127   \n",
       "GaussianNB              0.343040      0.207188         0.996314   \n",
       "\n",
       "                        accuracy_score  \n",
       "RandomForestClassifier        0.832541  \n",
       "XGBClassifier                 0.754754  \n",
       "LogisticRegression            0.734009  \n",
       "BernoulliNB                   0.735072  \n",
       "DecisionTreeClassifier        0.746289  \n",
       "KNeighborsClassifier          0.705383  \n",
       "GaussianNB                    0.417209  "
      ]
     },
     "execution_count": 50,
     "metadata": {},
     "output_type": "execute_result"
    }
   ],
   "source": [
    "classification_funct(x,y)"
   ]
  },
  {
   "cell_type": "code",
   "execution_count": 51,
   "id": "fa991646",
   "metadata": {},
   "outputs": [],
   "source": [
    "import pandas as pd\n",
    "import tensorflow as tf\n",
    "from tensorflow.keras.models import Sequential\n",
    "from tensorflow.keras.layers import Dense"
   ]
  },
  {
   "cell_type": "code",
   "execution_count": 52,
   "id": "f3bf0e31",
   "metadata": {},
   "outputs": [],
   "source": [
    "a=df[[\"Purpose\",\"Home Ownership\",\"Term\",\"Current Loan Amount\",\"Annual Income\"]]\n",
    "b=df[[\"Loan Status\"]]"
   ]
  },
  {
   "cell_type": "code",
   "execution_count": 53,
   "id": "17e1c96a",
   "metadata": {},
   "outputs": [],
   "source": [
    "a=pd.get_dummies(a,drop_first=True)"
   ]
  },
  {
   "cell_type": "code",
   "execution_count": 54,
   "id": "7d0cdf3b",
   "metadata": {},
   "outputs": [
    {
     "data": {
      "text/plain": [
       "(239817, 13)"
      ]
     },
     "execution_count": 54,
     "metadata": {},
     "output_type": "execute_result"
    }
   ],
   "source": [
    "a.shape"
   ]
  },
  {
   "cell_type": "code",
   "execution_count": 55,
   "id": "6a510d95",
   "metadata": {},
   "outputs": [],
   "source": [
    "model=Sequential()\n",
    "model.add(Dense(13,activation=\"relu\"))\n",
    "model.add(Dense(26,activation=\"relu\"))\n",
    "model.add(Dense(52,activation=\"relu\"))\n",
    "model.add(Dense(7,activation=\"relu\"))\n",
    "model.add(Dense(1,activation=\"sigmoid\"))\n",
    "model.compile(loss=\"binary_crossentropy\",optimizer=\"adam\",metrics=\"accuracy\")"
   ]
  },
  {
   "cell_type": "code",
   "execution_count": 56,
   "id": "cfecb8cb",
   "metadata": {},
   "outputs": [
    {
     "name": "stdout",
     "output_type": "stream",
     "text": [
      "Epoch 1/10\n",
      "19186/19186 [==============================] - 22s 1ms/step - loss: 2.3858 - accuracy: 0.7291 - val_loss: 0.5759 - val_accuracy: 0.7376\n",
      "Epoch 2/10\n",
      "19186/19186 [==============================] - 21s 1ms/step - loss: 0.5828 - accuracy: 0.7305 - val_loss: 0.5758 - val_accuracy: 0.7376\n",
      "Epoch 3/10\n",
      "19186/19186 [==============================] - 21s 1ms/step - loss: 0.5828 - accuracy: 0.7305 - val_loss: 0.5756 - val_accuracy: 0.7376\n",
      "Epoch 4/10\n",
      "19186/19186 [==============================] - 21s 1ms/step - loss: 0.5828 - accuracy: 0.7305 - val_loss: 0.5758 - val_accuracy: 0.7376\n",
      "Epoch 5/10\n",
      "19186/19186 [==============================] - 21s 1ms/step - loss: 0.5828 - accuracy: 0.7305 - val_loss: 0.5756 - val_accuracy: 0.7376\n",
      "Epoch 6/10\n",
      "19186/19186 [==============================] - 21s 1ms/step - loss: 0.5828 - accuracy: 0.7305 - val_loss: 0.5757 - val_accuracy: 0.7376\n",
      "Epoch 7/10\n",
      "19186/19186 [==============================] - 21s 1ms/step - loss: 0.5828 - accuracy: 0.7305 - val_loss: 0.5758 - val_accuracy: 0.7376\n",
      "Epoch 8/10\n",
      "19186/19186 [==============================] - 21s 1ms/step - loss: 0.5828 - accuracy: 0.7305 - val_loss: 0.5756 - val_accuracy: 0.7376\n",
      "Epoch 9/10\n",
      "19186/19186 [==============================] - 21s 1ms/step - loss: 0.5828 - accuracy: 0.7305 - val_loss: 0.5756 - val_accuracy: 0.7376\n",
      "Epoch 10/10\n",
      "19186/19186 [==============================] - 21s 1ms/step - loss: 0.5828 - accuracy: 0.7305 - val_loss: 0.5759 - val_accuracy: 0.7376\n"
     ]
    },
    {
     "data": {
      "text/plain": [
       "<keras.callbacks.History at 0x220d7c9c220>"
      ]
     },
     "execution_count": 56,
     "metadata": {},
     "output_type": "execute_result"
    }
   ],
   "source": [
    "model.fit(a,b,epochs=10,validation_split=0.20,batch_size=10,verbose=1)"
   ]
  },
  {
   "cell_type": "code",
   "execution_count": 57,
   "id": "9dfd2ad5",
   "metadata": {},
   "outputs": [
    {
     "name": "stdout",
     "output_type": "stream",
     "text": [
      "Model: \"sequential\"\n",
      "_________________________________________________________________\n",
      " Layer (type)                Output Shape              Param #   \n",
      "=================================================================\n",
      " dense (Dense)               (None, 13)                182       \n",
      "                                                                 \n",
      " dense_1 (Dense)             (None, 26)                364       \n",
      "                                                                 \n",
      " dense_2 (Dense)             (None, 52)                1404      \n",
      "                                                                 \n",
      " dense_3 (Dense)             (None, 7)                 371       \n",
      "                                                                 \n",
      " dense_4 (Dense)             (None, 1)                 8         \n",
      "                                                                 \n",
      "=================================================================\n",
      "Total params: 2,329\n",
      "Trainable params: 2,329\n",
      "Non-trainable params: 0\n",
      "_________________________________________________________________\n"
     ]
    }
   ],
   "source": [
    "model.summary()"
   ]
  },
  {
   "cell_type": "code",
   "execution_count": 58,
   "id": "01410d40",
   "metadata": {},
   "outputs": [
    {
     "name": "stdout",
     "output_type": "stream",
     "text": [
      "7495/7495 [==============================] - 5s 703us/step - loss: 0.5814 - accuracy: 0.7319\n"
     ]
    }
   ],
   "source": [
    "scores=model.evaluate(a,b)"
   ]
  },
  {
   "cell_type": "code",
   "execution_count": 59,
   "id": "c468009a",
   "metadata": {},
   "outputs": [
    {
     "data": {
      "text/plain": [
       "0.5814388990402222"
      ]
     },
     "execution_count": 59,
     "metadata": {},
     "output_type": "execute_result"
    }
   ],
   "source": [
    "scores[0]"
   ]
  },
  {
   "cell_type": "code",
   "execution_count": 60,
   "id": "9979c44b",
   "metadata": {},
   "outputs": [
    {
     "data": {
      "text/plain": [
       "0.7318747043609619"
      ]
     },
     "execution_count": 60,
     "metadata": {},
     "output_type": "execute_result"
    }
   ],
   "source": [
    "scores[1]"
   ]
  },
  {
   "cell_type": "code",
   "execution_count": null,
   "id": "d3540104",
   "metadata": {},
   "outputs": [],
   "source": []
  }
 ],
 "metadata": {
  "kernelspec": {
   "display_name": "Python 3 (ipykernel)",
   "language": "python",
   "name": "python3"
  },
  "language_info": {
   "codemirror_mode": {
    "name": "ipython",
    "version": 3
   },
   "file_extension": ".py",
   "mimetype": "text/x-python",
   "name": "python",
   "nbconvert_exporter": "python",
   "pygments_lexer": "ipython3",
   "version": "3.9.12"
  }
 },
 "nbformat": 4,
 "nbformat_minor": 5
}
